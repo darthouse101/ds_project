{
  "metadata": {
    "kernelspec": {
      "name": "python",
      "display_name": "Python (Pyodide)",
      "language": "python"
    },
    "language_info": {
      "codemirror_mode": {
        "name": "python",
        "version": 3
      },
      "file_extension": ".py",
      "mimetype": "text/x-python",
      "name": "python",
      "nbconvert_exporter": "python",
      "pygments_lexer": "ipython3",
      "version": "3.8"
    },
    "colab": {
      "provenance": []
    }
  },
  "nbformat_minor": 0,
  "nbformat": 4,
  "cells": [
    {
      "cell_type": "code",
      "source": [
        "from google.colab import files\n",
        "uploaded = files.upload()\n"
      ],
      "metadata": {
        "colab": {
          "base_uri": "https://localhost:8080/",
          "height": 73
        },
        "id": "e5RdK2L07CNt",
        "outputId": "2898b84b-263c-4582-dc6d-0d564cc35f23"
      },
      "execution_count": null,
      "outputs": [
        {
          "output_type": "display_data",
          "data": {
            "text/plain": [
              "<IPython.core.display.HTML object>"
            ],
            "text/html": [
              "\n",
              "     <input type=\"file\" id=\"files-b7d9a00a-4a6f-4224-a9e6-14abbafb9ae0\" name=\"files[]\" multiple disabled\n",
              "        style=\"border:none\" />\n",
              "     <output id=\"result-b7d9a00a-4a6f-4224-a9e6-14abbafb9ae0\">\n",
              "      Upload widget is only available when the cell has been executed in the\n",
              "      current browser session. Please rerun this cell to enable.\n",
              "      </output>\n",
              "      <script>// Copyright 2017 Google LLC\n",
              "//\n",
              "// Licensed under the Apache License, Version 2.0 (the \"License\");\n",
              "// you may not use this file except in compliance with the License.\n",
              "// You may obtain a copy of the License at\n",
              "//\n",
              "//      http://www.apache.org/licenses/LICENSE-2.0\n",
              "//\n",
              "// Unless required by applicable law or agreed to in writing, software\n",
              "// distributed under the License is distributed on an \"AS IS\" BASIS,\n",
              "// WITHOUT WARRANTIES OR CONDITIONS OF ANY KIND, either express or implied.\n",
              "// See the License for the specific language governing permissions and\n",
              "// limitations under the License.\n",
              "\n",
              "/**\n",
              " * @fileoverview Helpers for google.colab Python module.\n",
              " */\n",
              "(function(scope) {\n",
              "function span(text, styleAttributes = {}) {\n",
              "  const element = document.createElement('span');\n",
              "  element.textContent = text;\n",
              "  for (const key of Object.keys(styleAttributes)) {\n",
              "    element.style[key] = styleAttributes[key];\n",
              "  }\n",
              "  return element;\n",
              "}\n",
              "\n",
              "// Max number of bytes which will be uploaded at a time.\n",
              "const MAX_PAYLOAD_SIZE = 100 * 1024;\n",
              "\n",
              "function _uploadFiles(inputId, outputId) {\n",
              "  const steps = uploadFilesStep(inputId, outputId);\n",
              "  const outputElement = document.getElementById(outputId);\n",
              "  // Cache steps on the outputElement to make it available for the next call\n",
              "  // to uploadFilesContinue from Python.\n",
              "  outputElement.steps = steps;\n",
              "\n",
              "  return _uploadFilesContinue(outputId);\n",
              "}\n",
              "\n",
              "// This is roughly an async generator (not supported in the browser yet),\n",
              "// where there are multiple asynchronous steps and the Python side is going\n",
              "// to poll for completion of each step.\n",
              "// This uses a Promise to block the python side on completion of each step,\n",
              "// then passes the result of the previous step as the input to the next step.\n",
              "function _uploadFilesContinue(outputId) {\n",
              "  const outputElement = document.getElementById(outputId);\n",
              "  const steps = outputElement.steps;\n",
              "\n",
              "  const next = steps.next(outputElement.lastPromiseValue);\n",
              "  return Promise.resolve(next.value.promise).then((value) => {\n",
              "    // Cache the last promise value to make it available to the next\n",
              "    // step of the generator.\n",
              "    outputElement.lastPromiseValue = value;\n",
              "    return next.value.response;\n",
              "  });\n",
              "}\n",
              "\n",
              "/**\n",
              " * Generator function which is called between each async step of the upload\n",
              " * process.\n",
              " * @param {string} inputId Element ID of the input file picker element.\n",
              " * @param {string} outputId Element ID of the output display.\n",
              " * @return {!Iterable<!Object>} Iterable of next steps.\n",
              " */\n",
              "function* uploadFilesStep(inputId, outputId) {\n",
              "  const inputElement = document.getElementById(inputId);\n",
              "  inputElement.disabled = false;\n",
              "\n",
              "  const outputElement = document.getElementById(outputId);\n",
              "  outputElement.innerHTML = '';\n",
              "\n",
              "  const pickedPromise = new Promise((resolve) => {\n",
              "    inputElement.addEventListener('change', (e) => {\n",
              "      resolve(e.target.files);\n",
              "    });\n",
              "  });\n",
              "\n",
              "  const cancel = document.createElement('button');\n",
              "  inputElement.parentElement.appendChild(cancel);\n",
              "  cancel.textContent = 'Cancel upload';\n",
              "  const cancelPromise = new Promise((resolve) => {\n",
              "    cancel.onclick = () => {\n",
              "      resolve(null);\n",
              "    };\n",
              "  });\n",
              "\n",
              "  // Wait for the user to pick the files.\n",
              "  const files = yield {\n",
              "    promise: Promise.race([pickedPromise, cancelPromise]),\n",
              "    response: {\n",
              "      action: 'starting',\n",
              "    }\n",
              "  };\n",
              "\n",
              "  cancel.remove();\n",
              "\n",
              "  // Disable the input element since further picks are not allowed.\n",
              "  inputElement.disabled = true;\n",
              "\n",
              "  if (!files) {\n",
              "    return {\n",
              "      response: {\n",
              "        action: 'complete',\n",
              "      }\n",
              "    };\n",
              "  }\n",
              "\n",
              "  for (const file of files) {\n",
              "    const li = document.createElement('li');\n",
              "    li.append(span(file.name, {fontWeight: 'bold'}));\n",
              "    li.append(span(\n",
              "        `(${file.type || 'n/a'}) - ${file.size} bytes, ` +\n",
              "        `last modified: ${\n",
              "            file.lastModifiedDate ? file.lastModifiedDate.toLocaleDateString() :\n",
              "                                    'n/a'} - `));\n",
              "    const percent = span('0% done');\n",
              "    li.appendChild(percent);\n",
              "\n",
              "    outputElement.appendChild(li);\n",
              "\n",
              "    const fileDataPromise = new Promise((resolve) => {\n",
              "      const reader = new FileReader();\n",
              "      reader.onload = (e) => {\n",
              "        resolve(e.target.result);\n",
              "      };\n",
              "      reader.readAsArrayBuffer(file);\n",
              "    });\n",
              "    // Wait for the data to be ready.\n",
              "    let fileData = yield {\n",
              "      promise: fileDataPromise,\n",
              "      response: {\n",
              "        action: 'continue',\n",
              "      }\n",
              "    };\n",
              "\n",
              "    // Use a chunked sending to avoid message size limits. See b/62115660.\n",
              "    let position = 0;\n",
              "    do {\n",
              "      const length = Math.min(fileData.byteLength - position, MAX_PAYLOAD_SIZE);\n",
              "      const chunk = new Uint8Array(fileData, position, length);\n",
              "      position += length;\n",
              "\n",
              "      const base64 = btoa(String.fromCharCode.apply(null, chunk));\n",
              "      yield {\n",
              "        response: {\n",
              "          action: 'append',\n",
              "          file: file.name,\n",
              "          data: base64,\n",
              "        },\n",
              "      };\n",
              "\n",
              "      let percentDone = fileData.byteLength === 0 ?\n",
              "          100 :\n",
              "          Math.round((position / fileData.byteLength) * 100);\n",
              "      percent.textContent = `${percentDone}% done`;\n",
              "\n",
              "    } while (position < fileData.byteLength);\n",
              "  }\n",
              "\n",
              "  // All done.\n",
              "  yield {\n",
              "    response: {\n",
              "      action: 'complete',\n",
              "    }\n",
              "  };\n",
              "}\n",
              "\n",
              "scope.google = scope.google || {};\n",
              "scope.google.colab = scope.google.colab || {};\n",
              "scope.google.colab._files = {\n",
              "  _uploadFiles,\n",
              "  _uploadFilesContinue,\n",
              "};\n",
              "})(self);\n",
              "</script> "
            ]
          },
          "metadata": {}
        },
        {
          "output_type": "stream",
          "name": "stdout",
          "text": [
            "Saving online_retail.csv to online_retail (1).csv\n"
          ]
        }
      ]
    },
    {
      "cell_type": "code",
      "source": [
        "!pip install ipython-sql\n"
      ],
      "metadata": {
        "colab": {
          "base_uri": "https://localhost:8080/"
        },
        "id": "jrBRL_4tNQ7n",
        "outputId": "6bc21949-90dd-4a3f-d088-1c1cd914bc74"
      },
      "execution_count": null,
      "outputs": [
        {
          "output_type": "stream",
          "name": "stdout",
          "text": [
            "Requirement already satisfied: ipython-sql in /usr/local/lib/python3.10/dist-packages (0.5.0)\n",
            "Requirement already satisfied: prettytable in /usr/local/lib/python3.10/dist-packages (from ipython-sql) (3.10.2)\n",
            "Requirement already satisfied: ipython in /usr/local/lib/python3.10/dist-packages (from ipython-sql) (7.34.0)\n",
            "Requirement already satisfied: sqlalchemy>=2.0 in /usr/local/lib/python3.10/dist-packages (from ipython-sql) (2.0.31)\n",
            "Requirement already satisfied: sqlparse in /usr/local/lib/python3.10/dist-packages (from ipython-sql) (0.5.1)\n",
            "Requirement already satisfied: six in /usr/local/lib/python3.10/dist-packages (from ipython-sql) (1.16.0)\n",
            "Requirement already satisfied: ipython-genutils in /usr/local/lib/python3.10/dist-packages (from ipython-sql) (0.2.0)\n",
            "Requirement already satisfied: typing-extensions>=4.6.0 in /usr/local/lib/python3.10/dist-packages (from sqlalchemy>=2.0->ipython-sql) (4.12.2)\n",
            "Requirement already satisfied: greenlet!=0.4.17 in /usr/local/lib/python3.10/dist-packages (from sqlalchemy>=2.0->ipython-sql) (3.0.3)\n",
            "Requirement already satisfied: setuptools>=18.5 in /usr/local/lib/python3.10/dist-packages (from ipython->ipython-sql) (71.0.4)\n",
            "Requirement already satisfied: jedi>=0.16 in /usr/local/lib/python3.10/dist-packages (from ipython->ipython-sql) (0.19.1)\n",
            "Requirement already satisfied: decorator in /usr/local/lib/python3.10/dist-packages (from ipython->ipython-sql) (4.4.2)\n",
            "Requirement already satisfied: pickleshare in /usr/local/lib/python3.10/dist-packages (from ipython->ipython-sql) (0.7.5)\n",
            "Requirement already satisfied: traitlets>=4.2 in /usr/local/lib/python3.10/dist-packages (from ipython->ipython-sql) (5.7.1)\n",
            "Requirement already satisfied: prompt-toolkit!=3.0.0,!=3.0.1,<3.1.0,>=2.0.0 in /usr/local/lib/python3.10/dist-packages (from ipython->ipython-sql) (3.0.47)\n",
            "Requirement already satisfied: pygments in /usr/local/lib/python3.10/dist-packages (from ipython->ipython-sql) (2.16.1)\n",
            "Requirement already satisfied: backcall in /usr/local/lib/python3.10/dist-packages (from ipython->ipython-sql) (0.2.0)\n",
            "Requirement already satisfied: matplotlib-inline in /usr/local/lib/python3.10/dist-packages (from ipython->ipython-sql) (0.1.7)\n",
            "Requirement already satisfied: pexpect>4.3 in /usr/local/lib/python3.10/dist-packages (from ipython->ipython-sql) (4.9.0)\n",
            "Requirement already satisfied: wcwidth in /usr/local/lib/python3.10/dist-packages (from prettytable->ipython-sql) (0.2.13)\n",
            "Requirement already satisfied: parso<0.9.0,>=0.8.3 in /usr/local/lib/python3.10/dist-packages (from jedi>=0.16->ipython->ipython-sql) (0.8.4)\n",
            "Requirement already satisfied: ptyprocess>=0.5 in /usr/local/lib/python3.10/dist-packages (from pexpect>4.3->ipython->ipython-sql) (0.7.0)\n"
          ]
        }
      ]
    },
    {
      "cell_type": "code",
      "source": [
        "import pandas as pd\n",
        "import sqlite3\n",
        "%reload_ext sql\n",
        "%sql sqlite://\n"
      ],
      "metadata": {
        "trusted": true,
        "id": "6GLtqNJ_6OaB"
      },
      "outputs": [],
      "execution_count": null
    },
    {
      "cell_type": "markdown",
      "source": [
        "# Retail Analysis Project\n",
        "## Deborah Atsagbede\n",
        "\n",
        "*30th July, 2024*"
      ],
      "metadata": {
        "id": "BtUaj3qK6OaD"
      }
    },
    {
      "cell_type": "markdown",
      "source": [
        "## Introduction\n",
        "\n",
        "Welcome to my exploration of an Online Retail dataset! In this analysis, I will delve into the intricate world of eCommerce sales to uncover key trends, customer preferences, and potential areas for growth. By using Google Colab and utilizing tools such as SQL, and Python, I aim to transform raw data into actionable insights. This project not only demonstrates my technical prowess in data analysis but also aligns with my aspirations to contribute to the team's success by leveraging data to drive strategic decisions and optimize their performance. Below is the link to the data source I have acquired from Kaggle.\n",
        "<https://www.kaggle.com/datasets/thedevastator/online-retail-transaction-data>"
      ],
      "metadata": {
        "id": "zBDJRZQ16OaF"
      }
    },
    {
      "cell_type": "markdown",
      "source": [
        "## Table of Content\n",
        "1. Data Acquisition\n",
        "2. Data Analysis and Cleaning\n",
        "3. Data Visualization\n",
        "4. Conclusion"
      ],
      "metadata": {
        "id": "Cir0QYhh6OaG"
      }
    },
    {
      "cell_type": "markdown",
      "source": [
        "#Data Acquisition"
      ],
      "metadata": {
        "id": "utC952ElHJVY"
      }
    },
    {
      "cell_type": "code",
      "source": [
        "import io\n",
        "df = pd.read_csv(io.BytesIO(uploaded['online_retail (1).csv']))"
      ],
      "metadata": {
        "id": "aXsutBgTHhtE"
      },
      "execution_count": null,
      "outputs": []
    },
    {
      "cell_type": "code",
      "source": [
        "conn = sqlite3.connect('retail.db')\n",
        "\n",
        "# Load the DataFrame into an SQLite table\n",
        "df.to_sql('retail', conn, index=False, if_exists='replace')"
      ],
      "metadata": {
        "colab": {
          "base_uri": "https://localhost:8080/"
        },
        "id": "ye1IkMA6JVSN",
        "outputId": "b2a1da4f-7f45-452a-8c83-0090535cf9f7"
      },
      "execution_count": null,
      "outputs": [
        {
          "output_type": "execute_result",
          "data": {
            "text/plain": [
              "541909"
            ]
          },
          "metadata": {},
          "execution_count": 91
        }
      ]
    },
    {
      "cell_type": "code",
      "source": [
        "query = 'SELECT * FROM retail LIMIT 5'\n",
        "result = pd.read_sql_query(query, conn)\n",
        "result"
      ],
      "metadata": {
        "colab": {
          "base_uri": "https://localhost:8080/",
          "height": 206
        },
        "id": "5NJI2BYTH8lg",
        "outputId": "d75ccef5-4716-4d5c-c38d-dfd063d3a99e"
      },
      "execution_count": null,
      "outputs": [
        {
          "output_type": "execute_result",
          "data": {
            "text/plain": [
              "   index InvoiceNo StockCode                          Description  Quantity  \\\n",
              "0      0    536365    85123A   WHITE HANGING HEART T-LIGHT HOLDER         6   \n",
              "1      1    536365     71053                  WHITE METAL LANTERN         6   \n",
              "2      2    536365    84406B       CREAM CUPID HEARTS COAT HANGER         8   \n",
              "3      3    536365    84029G  KNITTED UNION FLAG HOT WATER BOTTLE         6   \n",
              "4      4    536365    84029E       RED WOOLLY HOTTIE WHITE HEART.         6   \n",
              "\n",
              "      InvoiceDate  UnitPrice  CustomerID         Country  \n",
              "0  12/1/2010 8:26       2.55     17850.0  United Kingdom  \n",
              "1  12/1/2010 8:26       3.39     17850.0  United Kingdom  \n",
              "2  12/1/2010 8:26       2.75     17850.0  United Kingdom  \n",
              "3  12/1/2010 8:26       3.39     17850.0  United Kingdom  \n",
              "4  12/1/2010 8:26       3.39     17850.0  United Kingdom  "
            ],
            "text/html": [
              "\n",
              "  <div id=\"df-2167b327-763d-4cec-b070-fb8a8c51dd88\" class=\"colab-df-container\">\n",
              "    <div>\n",
              "<style scoped>\n",
              "    .dataframe tbody tr th:only-of-type {\n",
              "        vertical-align: middle;\n",
              "    }\n",
              "\n",
              "    .dataframe tbody tr th {\n",
              "        vertical-align: top;\n",
              "    }\n",
              "\n",
              "    .dataframe thead th {\n",
              "        text-align: right;\n",
              "    }\n",
              "</style>\n",
              "<table border=\"1\" class=\"dataframe\">\n",
              "  <thead>\n",
              "    <tr style=\"text-align: right;\">\n",
              "      <th></th>\n",
              "      <th>index</th>\n",
              "      <th>InvoiceNo</th>\n",
              "      <th>StockCode</th>\n",
              "      <th>Description</th>\n",
              "      <th>Quantity</th>\n",
              "      <th>InvoiceDate</th>\n",
              "      <th>UnitPrice</th>\n",
              "      <th>CustomerID</th>\n",
              "      <th>Country</th>\n",
              "    </tr>\n",
              "  </thead>\n",
              "  <tbody>\n",
              "    <tr>\n",
              "      <th>0</th>\n",
              "      <td>0</td>\n",
              "      <td>536365</td>\n",
              "      <td>85123A</td>\n",
              "      <td>WHITE HANGING HEART T-LIGHT HOLDER</td>\n",
              "      <td>6</td>\n",
              "      <td>12/1/2010 8:26</td>\n",
              "      <td>2.55</td>\n",
              "      <td>17850.0</td>\n",
              "      <td>United Kingdom</td>\n",
              "    </tr>\n",
              "    <tr>\n",
              "      <th>1</th>\n",
              "      <td>1</td>\n",
              "      <td>536365</td>\n",
              "      <td>71053</td>\n",
              "      <td>WHITE METAL LANTERN</td>\n",
              "      <td>6</td>\n",
              "      <td>12/1/2010 8:26</td>\n",
              "      <td>3.39</td>\n",
              "      <td>17850.0</td>\n",
              "      <td>United Kingdom</td>\n",
              "    </tr>\n",
              "    <tr>\n",
              "      <th>2</th>\n",
              "      <td>2</td>\n",
              "      <td>536365</td>\n",
              "      <td>84406B</td>\n",
              "      <td>CREAM CUPID HEARTS COAT HANGER</td>\n",
              "      <td>8</td>\n",
              "      <td>12/1/2010 8:26</td>\n",
              "      <td>2.75</td>\n",
              "      <td>17850.0</td>\n",
              "      <td>United Kingdom</td>\n",
              "    </tr>\n",
              "    <tr>\n",
              "      <th>3</th>\n",
              "      <td>3</td>\n",
              "      <td>536365</td>\n",
              "      <td>84029G</td>\n",
              "      <td>KNITTED UNION FLAG HOT WATER BOTTLE</td>\n",
              "      <td>6</td>\n",
              "      <td>12/1/2010 8:26</td>\n",
              "      <td>3.39</td>\n",
              "      <td>17850.0</td>\n",
              "      <td>United Kingdom</td>\n",
              "    </tr>\n",
              "    <tr>\n",
              "      <th>4</th>\n",
              "      <td>4</td>\n",
              "      <td>536365</td>\n",
              "      <td>84029E</td>\n",
              "      <td>RED WOOLLY HOTTIE WHITE HEART.</td>\n",
              "      <td>6</td>\n",
              "      <td>12/1/2010 8:26</td>\n",
              "      <td>3.39</td>\n",
              "      <td>17850.0</td>\n",
              "      <td>United Kingdom</td>\n",
              "    </tr>\n",
              "  </tbody>\n",
              "</table>\n",
              "</div>\n",
              "    <div class=\"colab-df-buttons\">\n",
              "\n",
              "  <div class=\"colab-df-container\">\n",
              "    <button class=\"colab-df-convert\" onclick=\"convertToInteractive('df-2167b327-763d-4cec-b070-fb8a8c51dd88')\"\n",
              "            title=\"Convert this dataframe to an interactive table.\"\n",
              "            style=\"display:none;\">\n",
              "\n",
              "  <svg xmlns=\"http://www.w3.org/2000/svg\" height=\"24px\" viewBox=\"0 -960 960 960\">\n",
              "    <path d=\"M120-120v-720h720v720H120Zm60-500h600v-160H180v160Zm220 220h160v-160H400v160Zm0 220h160v-160H400v160ZM180-400h160v-160H180v160Zm440 0h160v-160H620v160ZM180-180h160v-160H180v160Zm440 0h160v-160H620v160Z\"/>\n",
              "  </svg>\n",
              "    </button>\n",
              "\n",
              "  <style>\n",
              "    .colab-df-container {\n",
              "      display:flex;\n",
              "      gap: 12px;\n",
              "    }\n",
              "\n",
              "    .colab-df-convert {\n",
              "      background-color: #E8F0FE;\n",
              "      border: none;\n",
              "      border-radius: 50%;\n",
              "      cursor: pointer;\n",
              "      display: none;\n",
              "      fill: #1967D2;\n",
              "      height: 32px;\n",
              "      padding: 0 0 0 0;\n",
              "      width: 32px;\n",
              "    }\n",
              "\n",
              "    .colab-df-convert:hover {\n",
              "      background-color: #E2EBFA;\n",
              "      box-shadow: 0px 1px 2px rgba(60, 64, 67, 0.3), 0px 1px 3px 1px rgba(60, 64, 67, 0.15);\n",
              "      fill: #174EA6;\n",
              "    }\n",
              "\n",
              "    .colab-df-buttons div {\n",
              "      margin-bottom: 4px;\n",
              "    }\n",
              "\n",
              "    [theme=dark] .colab-df-convert {\n",
              "      background-color: #3B4455;\n",
              "      fill: #D2E3FC;\n",
              "    }\n",
              "\n",
              "    [theme=dark] .colab-df-convert:hover {\n",
              "      background-color: #434B5C;\n",
              "      box-shadow: 0px 1px 3px 1px rgba(0, 0, 0, 0.15);\n",
              "      filter: drop-shadow(0px 1px 2px rgba(0, 0, 0, 0.3));\n",
              "      fill: #FFFFFF;\n",
              "    }\n",
              "  </style>\n",
              "\n",
              "    <script>\n",
              "      const buttonEl =\n",
              "        document.querySelector('#df-2167b327-763d-4cec-b070-fb8a8c51dd88 button.colab-df-convert');\n",
              "      buttonEl.style.display =\n",
              "        google.colab.kernel.accessAllowed ? 'block' : 'none';\n",
              "\n",
              "      async function convertToInteractive(key) {\n",
              "        const element = document.querySelector('#df-2167b327-763d-4cec-b070-fb8a8c51dd88');\n",
              "        const dataTable =\n",
              "          await google.colab.kernel.invokeFunction('convertToInteractive',\n",
              "                                                    [key], {});\n",
              "        if (!dataTable) return;\n",
              "\n",
              "        const docLinkHtml = 'Like what you see? Visit the ' +\n",
              "          '<a target=\"_blank\" href=https://colab.research.google.com/notebooks/data_table.ipynb>data table notebook</a>'\n",
              "          + ' to learn more about interactive tables.';\n",
              "        element.innerHTML = '';\n",
              "        dataTable['output_type'] = 'display_data';\n",
              "        await google.colab.output.renderOutput(dataTable, element);\n",
              "        const docLink = document.createElement('div');\n",
              "        docLink.innerHTML = docLinkHtml;\n",
              "        element.appendChild(docLink);\n",
              "      }\n",
              "    </script>\n",
              "  </div>\n",
              "\n",
              "\n",
              "<div id=\"df-52331c2f-4748-4fb6-8641-1da05b269d0e\">\n",
              "  <button class=\"colab-df-quickchart\" onclick=\"quickchart('df-52331c2f-4748-4fb6-8641-1da05b269d0e')\"\n",
              "            title=\"Suggest charts\"\n",
              "            style=\"display:none;\">\n",
              "\n",
              "<svg xmlns=\"http://www.w3.org/2000/svg\" height=\"24px\"viewBox=\"0 0 24 24\"\n",
              "     width=\"24px\">\n",
              "    <g>\n",
              "        <path d=\"M19 3H5c-1.1 0-2 .9-2 2v14c0 1.1.9 2 2 2h14c1.1 0 2-.9 2-2V5c0-1.1-.9-2-2-2zM9 17H7v-7h2v7zm4 0h-2V7h2v10zm4 0h-2v-4h2v4z\"/>\n",
              "    </g>\n",
              "</svg>\n",
              "  </button>\n",
              "\n",
              "<style>\n",
              "  .colab-df-quickchart {\n",
              "      --bg-color: #E8F0FE;\n",
              "      --fill-color: #1967D2;\n",
              "      --hover-bg-color: #E2EBFA;\n",
              "      --hover-fill-color: #174EA6;\n",
              "      --disabled-fill-color: #AAA;\n",
              "      --disabled-bg-color: #DDD;\n",
              "  }\n",
              "\n",
              "  [theme=dark] .colab-df-quickchart {\n",
              "      --bg-color: #3B4455;\n",
              "      --fill-color: #D2E3FC;\n",
              "      --hover-bg-color: #434B5C;\n",
              "      --hover-fill-color: #FFFFFF;\n",
              "      --disabled-bg-color: #3B4455;\n",
              "      --disabled-fill-color: #666;\n",
              "  }\n",
              "\n",
              "  .colab-df-quickchart {\n",
              "    background-color: var(--bg-color);\n",
              "    border: none;\n",
              "    border-radius: 50%;\n",
              "    cursor: pointer;\n",
              "    display: none;\n",
              "    fill: var(--fill-color);\n",
              "    height: 32px;\n",
              "    padding: 0;\n",
              "    width: 32px;\n",
              "  }\n",
              "\n",
              "  .colab-df-quickchart:hover {\n",
              "    background-color: var(--hover-bg-color);\n",
              "    box-shadow: 0 1px 2px rgba(60, 64, 67, 0.3), 0 1px 3px 1px rgba(60, 64, 67, 0.15);\n",
              "    fill: var(--button-hover-fill-color);\n",
              "  }\n",
              "\n",
              "  .colab-df-quickchart-complete:disabled,\n",
              "  .colab-df-quickchart-complete:disabled:hover {\n",
              "    background-color: var(--disabled-bg-color);\n",
              "    fill: var(--disabled-fill-color);\n",
              "    box-shadow: none;\n",
              "  }\n",
              "\n",
              "  .colab-df-spinner {\n",
              "    border: 2px solid var(--fill-color);\n",
              "    border-color: transparent;\n",
              "    border-bottom-color: var(--fill-color);\n",
              "    animation:\n",
              "      spin 1s steps(1) infinite;\n",
              "  }\n",
              "\n",
              "  @keyframes spin {\n",
              "    0% {\n",
              "      border-color: transparent;\n",
              "      border-bottom-color: var(--fill-color);\n",
              "      border-left-color: var(--fill-color);\n",
              "    }\n",
              "    20% {\n",
              "      border-color: transparent;\n",
              "      border-left-color: var(--fill-color);\n",
              "      border-top-color: var(--fill-color);\n",
              "    }\n",
              "    30% {\n",
              "      border-color: transparent;\n",
              "      border-left-color: var(--fill-color);\n",
              "      border-top-color: var(--fill-color);\n",
              "      border-right-color: var(--fill-color);\n",
              "    }\n",
              "    40% {\n",
              "      border-color: transparent;\n",
              "      border-right-color: var(--fill-color);\n",
              "      border-top-color: var(--fill-color);\n",
              "    }\n",
              "    60% {\n",
              "      border-color: transparent;\n",
              "      border-right-color: var(--fill-color);\n",
              "    }\n",
              "    80% {\n",
              "      border-color: transparent;\n",
              "      border-right-color: var(--fill-color);\n",
              "      border-bottom-color: var(--fill-color);\n",
              "    }\n",
              "    90% {\n",
              "      border-color: transparent;\n",
              "      border-bottom-color: var(--fill-color);\n",
              "    }\n",
              "  }\n",
              "</style>\n",
              "\n",
              "  <script>\n",
              "    async function quickchart(key) {\n",
              "      const quickchartButtonEl =\n",
              "        document.querySelector('#' + key + ' button');\n",
              "      quickchartButtonEl.disabled = true;  // To prevent multiple clicks.\n",
              "      quickchartButtonEl.classList.add('colab-df-spinner');\n",
              "      try {\n",
              "        const charts = await google.colab.kernel.invokeFunction(\n",
              "            'suggestCharts', [key], {});\n",
              "      } catch (error) {\n",
              "        console.error('Error during call to suggestCharts:', error);\n",
              "      }\n",
              "      quickchartButtonEl.classList.remove('colab-df-spinner');\n",
              "      quickchartButtonEl.classList.add('colab-df-quickchart-complete');\n",
              "    }\n",
              "    (() => {\n",
              "      let quickchartButtonEl =\n",
              "        document.querySelector('#df-52331c2f-4748-4fb6-8641-1da05b269d0e button');\n",
              "      quickchartButtonEl.style.display =\n",
              "        google.colab.kernel.accessAllowed ? 'block' : 'none';\n",
              "    })();\n",
              "  </script>\n",
              "</div>\n",
              "\n",
              "  <div id=\"id_ca4d2679-3f6d-4e44-a517-090c1ab4583c\">\n",
              "    <style>\n",
              "      .colab-df-generate {\n",
              "        background-color: #E8F0FE;\n",
              "        border: none;\n",
              "        border-radius: 50%;\n",
              "        cursor: pointer;\n",
              "        display: none;\n",
              "        fill: #1967D2;\n",
              "        height: 32px;\n",
              "        padding: 0 0 0 0;\n",
              "        width: 32px;\n",
              "      }\n",
              "\n",
              "      .colab-df-generate:hover {\n",
              "        background-color: #E2EBFA;\n",
              "        box-shadow: 0px 1px 2px rgba(60, 64, 67, 0.3), 0px 1px 3px 1px rgba(60, 64, 67, 0.15);\n",
              "        fill: #174EA6;\n",
              "      }\n",
              "\n",
              "      [theme=dark] .colab-df-generate {\n",
              "        background-color: #3B4455;\n",
              "        fill: #D2E3FC;\n",
              "      }\n",
              "\n",
              "      [theme=dark] .colab-df-generate:hover {\n",
              "        background-color: #434B5C;\n",
              "        box-shadow: 0px 1px 3px 1px rgba(0, 0, 0, 0.15);\n",
              "        filter: drop-shadow(0px 1px 2px rgba(0, 0, 0, 0.3));\n",
              "        fill: #FFFFFF;\n",
              "      }\n",
              "    </style>\n",
              "    <button class=\"colab-df-generate\" onclick=\"generateWithVariable('result')\"\n",
              "            title=\"Generate code using this dataframe.\"\n",
              "            style=\"display:none;\">\n",
              "\n",
              "  <svg xmlns=\"http://www.w3.org/2000/svg\" height=\"24px\"viewBox=\"0 0 24 24\"\n",
              "       width=\"24px\">\n",
              "    <path d=\"M7,19H8.4L18.45,9,17,7.55,7,17.6ZM5,21V16.75L18.45,3.32a2,2,0,0,1,2.83,0l1.4,1.43a1.91,1.91,0,0,1,.58,1.4,1.91,1.91,0,0,1-.58,1.4L9.25,21ZM18.45,9,17,7.55Zm-12,3A5.31,5.31,0,0,0,4.9,8.1,5.31,5.31,0,0,0,1,6.5,5.31,5.31,0,0,0,4.9,4.9,5.31,5.31,0,0,0,6.5,1,5.31,5.31,0,0,0,8.1,4.9,5.31,5.31,0,0,0,12,6.5,5.46,5.46,0,0,0,6.5,12Z\"/>\n",
              "  </svg>\n",
              "    </button>\n",
              "    <script>\n",
              "      (() => {\n",
              "      const buttonEl =\n",
              "        document.querySelector('#id_ca4d2679-3f6d-4e44-a517-090c1ab4583c button.colab-df-generate');\n",
              "      buttonEl.style.display =\n",
              "        google.colab.kernel.accessAllowed ? 'block' : 'none';\n",
              "\n",
              "      buttonEl.onclick = () => {\n",
              "        google.colab.notebook.generateWithVariable('result');\n",
              "      }\n",
              "      })();\n",
              "    </script>\n",
              "  </div>\n",
              "\n",
              "    </div>\n",
              "  </div>\n"
            ],
            "application/vnd.google.colaboratory.intrinsic+json": {
              "type": "dataframe",
              "variable_name": "result",
              "summary": "{\n  \"name\": \"result\",\n  \"rows\": 5,\n  \"fields\": [\n    {\n      \"column\": \"index\",\n      \"properties\": {\n        \"dtype\": \"number\",\n        \"std\": 1,\n        \"min\": 0,\n        \"max\": 4,\n        \"num_unique_values\": 5,\n        \"samples\": [\n          1,\n          4,\n          2\n        ],\n        \"semantic_type\": \"\",\n        \"description\": \"\"\n      }\n    },\n    {\n      \"column\": \"InvoiceNo\",\n      \"properties\": {\n        \"dtype\": \"category\",\n        \"num_unique_values\": 1,\n        \"samples\": [\n          \"536365\"\n        ],\n        \"semantic_type\": \"\",\n        \"description\": \"\"\n      }\n    },\n    {\n      \"column\": \"StockCode\",\n      \"properties\": {\n        \"dtype\": \"string\",\n        \"num_unique_values\": 5,\n        \"samples\": [\n          \"71053\"\n        ],\n        \"semantic_type\": \"\",\n        \"description\": \"\"\n      }\n    },\n    {\n      \"column\": \"Description\",\n      \"properties\": {\n        \"dtype\": \"string\",\n        \"num_unique_values\": 5,\n        \"samples\": [\n          \"WHITE METAL LANTERN\"\n        ],\n        \"semantic_type\": \"\",\n        \"description\": \"\"\n      }\n    },\n    {\n      \"column\": \"Quantity\",\n      \"properties\": {\n        \"dtype\": \"number\",\n        \"std\": 0,\n        \"min\": 6,\n        \"max\": 8,\n        \"num_unique_values\": 2,\n        \"samples\": [\n          8\n        ],\n        \"semantic_type\": \"\",\n        \"description\": \"\"\n      }\n    },\n    {\n      \"column\": \"InvoiceDate\",\n      \"properties\": {\n        \"dtype\": \"object\",\n        \"num_unique_values\": 1,\n        \"samples\": [\n          \"12/1/2010 8:26\"\n        ],\n        \"semantic_type\": \"\",\n        \"description\": \"\"\n      }\n    },\n    {\n      \"column\": \"UnitPrice\",\n      \"properties\": {\n        \"dtype\": \"number\",\n        \"std\": 0.41143650785996144,\n        \"min\": 2.55,\n        \"max\": 3.39,\n        \"num_unique_values\": 3,\n        \"samples\": [\n          2.55\n        ],\n        \"semantic_type\": \"\",\n        \"description\": \"\"\n      }\n    },\n    {\n      \"column\": \"CustomerID\",\n      \"properties\": {\n        \"dtype\": \"number\",\n        \"std\": 0.0,\n        \"min\": 17850.0,\n        \"max\": 17850.0,\n        \"num_unique_values\": 1,\n        \"samples\": [\n          17850.0\n        ],\n        \"semantic_type\": \"\",\n        \"description\": \"\"\n      }\n    },\n    {\n      \"column\": \"Country\",\n      \"properties\": {\n        \"dtype\": \"category\",\n        \"num_unique_values\": 1,\n        \"samples\": [\n          \"United Kingdom\"\n        ],\n        \"semantic_type\": \"\",\n        \"description\": \"\"\n      }\n    }\n  ]\n}"
            }
          },
          "metadata": {},
          "execution_count": 92
        }
      ]
    },
    {
      "cell_type": "code",
      "source": [
        "# Connect to the SQLite database\n",
        "%sql sqlite:///retail.db"
      ],
      "metadata": {
        "id": "VEJiMnIsM4Cb"
      },
      "execution_count": null,
      "outputs": []
    },
    {
      "cell_type": "markdown",
      "source": [
        "#Data Analysis and Cleaning"
      ],
      "metadata": {
        "id": "lZzIqwKiS6hh"
      }
    },
    {
      "cell_type": "code",
      "source": [
        "# Checking the data types of the columns in the SQL table\n",
        "%sql PRAGMA table_info(retail);"
      ],
      "metadata": {
        "colab": {
          "base_uri": "https://localhost:8080/",
          "height": 278
        },
        "id": "VhK3HdZmTBFT",
        "outputId": "c20eb6f1-e1e4-43b3-eb25-eb65716c82f7"
      },
      "execution_count": null,
      "outputs": [
        {
          "output_type": "stream",
          "name": "stdout",
          "text": [
            "   sqlite://\n",
            " * sqlite:///retail.db\n",
            "Done.\n"
          ]
        },
        {
          "output_type": "execute_result",
          "data": {
            "text/plain": [
              "[(0, 'index', 'INTEGER', 0, None, 0),\n",
              " (1, 'InvoiceNo', 'TEXT', 0, None, 0),\n",
              " (2, 'StockCode', 'TEXT', 0, None, 0),\n",
              " (3, 'Description', 'TEXT', 0, None, 0),\n",
              " (4, 'Quantity', 'INTEGER', 0, None, 0),\n",
              " (5, 'InvoiceDate', 'TEXT', 0, None, 0),\n",
              " (6, 'UnitPrice', 'REAL', 0, None, 0),\n",
              " (7, 'CustomerID', 'REAL', 0, None, 0),\n",
              " (8, 'Country', 'TEXT', 0, None, 0)]"
            ],
            "text/html": [
              "<table>\n",
              "    <thead>\n",
              "        <tr>\n",
              "            <th>cid</th>\n",
              "            <th>name</th>\n",
              "            <th>type</th>\n",
              "            <th>notnull</th>\n",
              "            <th>dflt_value</th>\n",
              "            <th>pk</th>\n",
              "        </tr>\n",
              "    </thead>\n",
              "    <tbody>\n",
              "        <tr>\n",
              "            <td>0</td>\n",
              "            <td>index</td>\n",
              "            <td>INTEGER</td>\n",
              "            <td>0</td>\n",
              "            <td>None</td>\n",
              "            <td>0</td>\n",
              "        </tr>\n",
              "        <tr>\n",
              "            <td>1</td>\n",
              "            <td>InvoiceNo</td>\n",
              "            <td>TEXT</td>\n",
              "            <td>0</td>\n",
              "            <td>None</td>\n",
              "            <td>0</td>\n",
              "        </tr>\n",
              "        <tr>\n",
              "            <td>2</td>\n",
              "            <td>StockCode</td>\n",
              "            <td>TEXT</td>\n",
              "            <td>0</td>\n",
              "            <td>None</td>\n",
              "            <td>0</td>\n",
              "        </tr>\n",
              "        <tr>\n",
              "            <td>3</td>\n",
              "            <td>Description</td>\n",
              "            <td>TEXT</td>\n",
              "            <td>0</td>\n",
              "            <td>None</td>\n",
              "            <td>0</td>\n",
              "        </tr>\n",
              "        <tr>\n",
              "            <td>4</td>\n",
              "            <td>Quantity</td>\n",
              "            <td>INTEGER</td>\n",
              "            <td>0</td>\n",
              "            <td>None</td>\n",
              "            <td>0</td>\n",
              "        </tr>\n",
              "        <tr>\n",
              "            <td>5</td>\n",
              "            <td>InvoiceDate</td>\n",
              "            <td>TEXT</td>\n",
              "            <td>0</td>\n",
              "            <td>None</td>\n",
              "            <td>0</td>\n",
              "        </tr>\n",
              "        <tr>\n",
              "            <td>6</td>\n",
              "            <td>UnitPrice</td>\n",
              "            <td>REAL</td>\n",
              "            <td>0</td>\n",
              "            <td>None</td>\n",
              "            <td>0</td>\n",
              "        </tr>\n",
              "        <tr>\n",
              "            <td>7</td>\n",
              "            <td>CustomerID</td>\n",
              "            <td>REAL</td>\n",
              "            <td>0</td>\n",
              "            <td>None</td>\n",
              "            <td>0</td>\n",
              "        </tr>\n",
              "        <tr>\n",
              "            <td>8</td>\n",
              "            <td>Country</td>\n",
              "            <td>TEXT</td>\n",
              "            <td>0</td>\n",
              "            <td>None</td>\n",
              "            <td>0</td>\n",
              "        </tr>\n",
              "    </tbody>\n",
              "</table>"
            ]
          },
          "metadata": {},
          "execution_count": 94
        }
      ]
    },
    {
      "cell_type": "code",
      "source": [
        "#Create a new column called Total and check if it's added\n",
        "%%sql\n",
        "ALTER TABLE retail ADD COLUMN Total REAL;\n",
        "UPDATE retail SET Total = ROUND( Quantity * UnitPrice, 1);\n",
        "PRAGMA table_info(retail)"
      ],
      "metadata": {
        "colab": {
          "base_uri": "https://localhost:8080/",
          "height": 335
        },
        "id": "YSXS12IcN88a",
        "outputId": "6c81b2c8-1cdd-495f-ae69-de2e3bdca570"
      },
      "execution_count": null,
      "outputs": [
        {
          "output_type": "stream",
          "name": "stdout",
          "text": [
            "   sqlite://\n",
            " * sqlite:///retail.db\n",
            "Done.\n",
            "541909 rows affected.\n",
            "Done.\n"
          ]
        },
        {
          "output_type": "execute_result",
          "data": {
            "text/plain": [
              "[(0, 'index', 'INTEGER', 0, None, 0),\n",
              " (1, 'InvoiceNo', 'TEXT', 0, None, 0),\n",
              " (2, 'StockCode', 'TEXT', 0, None, 0),\n",
              " (3, 'Description', 'TEXT', 0, None, 0),\n",
              " (4, 'Quantity', 'INTEGER', 0, None, 0),\n",
              " (5, 'InvoiceDate', 'TEXT', 0, None, 0),\n",
              " (6, 'UnitPrice', 'REAL', 0, None, 0),\n",
              " (7, 'CustomerID', 'REAL', 0, None, 0),\n",
              " (8, 'Country', 'TEXT', 0, None, 0),\n",
              " (9, 'Total', 'REAL', 0, None, 0)]"
            ],
            "text/html": [
              "<table>\n",
              "    <thead>\n",
              "        <tr>\n",
              "            <th>cid</th>\n",
              "            <th>name</th>\n",
              "            <th>type</th>\n",
              "            <th>notnull</th>\n",
              "            <th>dflt_value</th>\n",
              "            <th>pk</th>\n",
              "        </tr>\n",
              "    </thead>\n",
              "    <tbody>\n",
              "        <tr>\n",
              "            <td>0</td>\n",
              "            <td>index</td>\n",
              "            <td>INTEGER</td>\n",
              "            <td>0</td>\n",
              "            <td>None</td>\n",
              "            <td>0</td>\n",
              "        </tr>\n",
              "        <tr>\n",
              "            <td>1</td>\n",
              "            <td>InvoiceNo</td>\n",
              "            <td>TEXT</td>\n",
              "            <td>0</td>\n",
              "            <td>None</td>\n",
              "            <td>0</td>\n",
              "        </tr>\n",
              "        <tr>\n",
              "            <td>2</td>\n",
              "            <td>StockCode</td>\n",
              "            <td>TEXT</td>\n",
              "            <td>0</td>\n",
              "            <td>None</td>\n",
              "            <td>0</td>\n",
              "        </tr>\n",
              "        <tr>\n",
              "            <td>3</td>\n",
              "            <td>Description</td>\n",
              "            <td>TEXT</td>\n",
              "            <td>0</td>\n",
              "            <td>None</td>\n",
              "            <td>0</td>\n",
              "        </tr>\n",
              "        <tr>\n",
              "            <td>4</td>\n",
              "            <td>Quantity</td>\n",
              "            <td>INTEGER</td>\n",
              "            <td>0</td>\n",
              "            <td>None</td>\n",
              "            <td>0</td>\n",
              "        </tr>\n",
              "        <tr>\n",
              "            <td>5</td>\n",
              "            <td>InvoiceDate</td>\n",
              "            <td>TEXT</td>\n",
              "            <td>0</td>\n",
              "            <td>None</td>\n",
              "            <td>0</td>\n",
              "        </tr>\n",
              "        <tr>\n",
              "            <td>6</td>\n",
              "            <td>UnitPrice</td>\n",
              "            <td>REAL</td>\n",
              "            <td>0</td>\n",
              "            <td>None</td>\n",
              "            <td>0</td>\n",
              "        </tr>\n",
              "        <tr>\n",
              "            <td>7</td>\n",
              "            <td>CustomerID</td>\n",
              "            <td>REAL</td>\n",
              "            <td>0</td>\n",
              "            <td>None</td>\n",
              "            <td>0</td>\n",
              "        </tr>\n",
              "        <tr>\n",
              "            <td>8</td>\n",
              "            <td>Country</td>\n",
              "            <td>TEXT</td>\n",
              "            <td>0</td>\n",
              "            <td>None</td>\n",
              "            <td>0</td>\n",
              "        </tr>\n",
              "        <tr>\n",
              "            <td>9</td>\n",
              "            <td>Total</td>\n",
              "            <td>REAL</td>\n",
              "            <td>0</td>\n",
              "            <td>None</td>\n",
              "            <td>0</td>\n",
              "        </tr>\n",
              "    </tbody>\n",
              "</table>"
            ]
          },
          "metadata": {},
          "execution_count": 95
        }
      ]
    },
    {
      "cell_type": "code",
      "source": [
        "#dropping rows that are not useful\n",
        "%%sql\n",
        "DELETE FROM retail WHERE UnitPrice<=0"
      ],
      "metadata": {
        "colab": {
          "base_uri": "https://localhost:8080/"
        },
        "id": "j4F8-vv5O5-x",
        "outputId": "811faf59-d72e-443f-fe83-cd5ea9b9a716"
      },
      "execution_count": null,
      "outputs": [
        {
          "output_type": "stream",
          "name": "stdout",
          "text": [
            "   sqlite://\n",
            " * sqlite:///retail.db\n",
            "0 rows affected.\n"
          ]
        },
        {
          "output_type": "execute_result",
          "data": {
            "text/plain": [
              "[]"
            ]
          },
          "metadata": {},
          "execution_count": 97
        }
      ]
    },
    {
      "cell_type": "code",
      "source": [
        "#finding the item with the highest purchase\n",
        "%%sql\n",
        "SELECT StockCode, UnitPrice,  Description, MAX(Quantity) FROM retail"
      ],
      "metadata": {
        "colab": {
          "base_uri": "https://localhost:8080/",
          "height": 114
        },
        "id": "lVgV0MoKpmDT",
        "outputId": "9dcd1a00-88fb-4718-c80d-ac5a8ceb2f47"
      },
      "execution_count": null,
      "outputs": [
        {
          "output_type": "stream",
          "name": "stdout",
          "text": [
            "   sqlite://\n",
            " * sqlite:///retail.db\n",
            "Done.\n"
          ]
        },
        {
          "output_type": "execute_result",
          "data": {
            "text/plain": [
              "[('23843', 2.08, 'PAPER CRAFT , LITTLE BIRDIE', 80995)]"
            ],
            "text/html": [
              "<table>\n",
              "    <thead>\n",
              "        <tr>\n",
              "            <th>StockCode</th>\n",
              "            <th>UnitPrice</th>\n",
              "            <th>Description</th>\n",
              "            <th>MAX(Quantity)</th>\n",
              "        </tr>\n",
              "    </thead>\n",
              "    <tbody>\n",
              "        <tr>\n",
              "            <td>23843</td>\n",
              "            <td>2.08</td>\n",
              "            <td>PAPER CRAFT , LITTLE BIRDIE</td>\n",
              "            <td>80995</td>\n",
              "        </tr>\n",
              "    </tbody>\n",
              "</table>"
            ]
          },
          "metadata": {},
          "execution_count": 98
        }
      ]
    },
    {
      "cell_type": "code",
      "source": [
        "#finding the count of items cheaper than the most purchased item\n",
        "%%sql\n",
        "SELECT DISTINCT COUNT(StockCode) as 'Number of Items Cheaper than the Most Purchased Item'\n",
        "FROM retail\n",
        "WHERE UnitPrice<2.08"
      ],
      "metadata": {
        "colab": {
          "base_uri": "https://localhost:8080/",
          "height": 114
        },
        "id": "Qde7Ru04NeaG",
        "outputId": "d49dede9-daaf-4d1e-b3b1-354aa8ac555b"
      },
      "execution_count": null,
      "outputs": [
        {
          "output_type": "stream",
          "name": "stdout",
          "text": [
            "   sqlite://\n",
            " * sqlite:///retail.db\n",
            "Done.\n"
          ]
        },
        {
          "output_type": "execute_result",
          "data": {
            "text/plain": [
              "[(252969,)]"
            ],
            "text/html": [
              "<table>\n",
              "    <thead>\n",
              "        <tr>\n",
              "            <th>Number of Items Cheaper than the Most Purchased Item</th>\n",
              "        </tr>\n",
              "    </thead>\n",
              "    <tbody>\n",
              "        <tr>\n",
              "            <td>252969</td>\n",
              "        </tr>\n",
              "    </tbody>\n",
              "</table>"
            ]
          },
          "metadata": {},
          "execution_count": 99
        }
      ]
    },
    {
      "cell_type": "markdown",
      "source": [
        "So far, we can see that the most purchased item with StockCode 23843, is cheap. However, it is not purchased because it's the cheapest item in the store. There are way more cheaper items as shown in the query above. I'll further explore the most purchased item to see if there's any relation with the months of purchase and if it contributes to revenue at all"
      ],
      "metadata": {
        "id": "tfIYT4O4NXxc"
      }
    },
    {
      "cell_type": "code",
      "source": [
        "#Adding the column Month to the table\n",
        "%%sql\n",
        "ALTER TABLE retail ADD COLUMN Month TEXT;\n",
        "UPDATE retail\n",
        "SET Month = CASE\n",
        "    WHEN substr(InvoiceDate, 1, 2) = '1/' THEN 'January'\n",
        "    WHEN substr(InvoiceDate, 1, 2) = '2/' THEN 'February'\n",
        "    WHEN substr(InvoiceDate, 1, 2) = '3/' THEN 'March'\n",
        "    WHEN substr(InvoiceDate, 1, 2) = '4/' THEN 'April'\n",
        "    WHEN substr(InvoiceDate, 1, 2) = '5/' THEN 'May'\n",
        "    WHEN substr(InvoiceDate, 1, 2) = '6/' THEN 'June'\n",
        "    WHEN substr(InvoiceDate, 1, 2) = '7/' THEN 'July'\n",
        "    WHEN substr(InvoiceDate, 1, 2) = '8/' THEN 'August'\n",
        "    WHEN substr(InvoiceDate, 1, 2) = '9/' THEN 'September'\n",
        "    WHEN substr(InvoiceDate, 1, 2) = '10' THEN 'October'\n",
        "    WHEN substr(InvoiceDate, 1, 2) = '11' THEN 'November'\n",
        "    WHEN substr(InvoiceDate, 1, 2) = '12' THEN 'December'\n",
        "END"
      ],
      "metadata": {
        "colab": {
          "base_uri": "https://localhost:8080/"
        },
        "id": "s6wiWsQPQUjY",
        "outputId": "2ed460f9-0e1b-4223-e762-23f335191dcd"
      },
      "execution_count": null,
      "outputs": [
        {
          "output_type": "stream",
          "name": "stdout",
          "text": [
            "   sqlite://\n",
            " * sqlite:///retail.db\n",
            "Done.\n",
            "539392 rows affected.\n"
          ]
        },
        {
          "output_type": "execute_result",
          "data": {
            "text/plain": [
              "[]"
            ]
          },
          "metadata": {},
          "execution_count": 100
        }
      ]
    },
    {
      "cell_type": "code",
      "source": [
        "#Adding the column Year to the SQL table retail\n",
        "%%sql\n",
        "ALTER TABLE retail ADD COLUMN Year INTEGER;\n",
        "UPDATE retail\n",
        "SET Year = substr(InvoiceDate, length(InvoiceDate) - 8, 4)\n"
      ],
      "metadata": {
        "colab": {
          "base_uri": "https://localhost:8080/"
        },
        "id": "1NhnsKHDXACG",
        "outputId": "c1f2f013-6553-4914-a5ff-9fb8aebecbb1"
      },
      "execution_count": null,
      "outputs": [
        {
          "output_type": "stream",
          "name": "stdout",
          "text": [
            "   sqlite://\n",
            " * sqlite:///retail.db\n",
            "Done.\n",
            "539392 rows affected.\n"
          ]
        },
        {
          "output_type": "execute_result",
          "data": {
            "text/plain": [
              "[]"
            ]
          },
          "metadata": {},
          "execution_count": 101
        }
      ]
    },
    {
      "cell_type": "code",
      "source": [
        "#Exploring the most purchased itemn\n",
        "%%sql\n",
        "SELECT * FROM retail where StockCode=23843 group by Month"
      ],
      "metadata": {
        "colab": {
          "base_uri": "https://localhost:8080/",
          "height": 114
        },
        "id": "WjMajM3_1_wx",
        "outputId": "d826e2b3-4a61-4abe-a863-9479f5b67356"
      },
      "execution_count": null,
      "outputs": [
        {
          "output_type": "stream",
          "name": "stdout",
          "text": [
            "   sqlite://\n",
            " * sqlite:///retail.db\n",
            "Done.\n"
          ]
        },
        {
          "output_type": "execute_result",
          "data": {
            "text/plain": [
              "[(540421, '581483', '23843', 'PAPER CRAFT , LITTLE BIRDIE', 80995, '12/9/2011 9:15', 2.08, 16446.0, 'United Kingdom', 168469.6, 'December', 2011)]"
            ],
            "text/html": [
              "<table>\n",
              "    <thead>\n",
              "        <tr>\n",
              "            <th>index</th>\n",
              "            <th>InvoiceNo</th>\n",
              "            <th>StockCode</th>\n",
              "            <th>Description</th>\n",
              "            <th>Quantity</th>\n",
              "            <th>InvoiceDate</th>\n",
              "            <th>UnitPrice</th>\n",
              "            <th>CustomerID</th>\n",
              "            <th>Country</th>\n",
              "            <th>Total</th>\n",
              "            <th>Month</th>\n",
              "            <th>Year</th>\n",
              "        </tr>\n",
              "    </thead>\n",
              "    <tbody>\n",
              "        <tr>\n",
              "            <td>540421</td>\n",
              "            <td>581483</td>\n",
              "            <td>23843</td>\n",
              "            <td>PAPER CRAFT , LITTLE BIRDIE</td>\n",
              "            <td>80995</td>\n",
              "            <td>12/9/2011 9:15</td>\n",
              "            <td>2.08</td>\n",
              "            <td>16446.0</td>\n",
              "            <td>United Kingdom</td>\n",
              "            <td>168469.6</td>\n",
              "            <td>December</td>\n",
              "            <td>2011</td>\n",
              "        </tr>\n",
              "    </tbody>\n",
              "</table>"
            ]
          },
          "metadata": {},
          "execution_count": 102
        }
      ]
    },
    {
      "cell_type": "markdown",
      "source": [
        "The query above shows that the most purchased item was only a one-time purchase by a customer so it's not a popular product. Further analysis is needed to find the most loved product and its contribution to the store's revenue."
      ],
      "metadata": {
        "id": "bPn9UVyH2bkN"
      }
    },
    {
      "cell_type": "code",
      "source": [
        "#Finding the top 10 products with their imapct on revenue\n",
        "%%sql\n",
        "SELECT\n",
        "    StockCode,\n",
        "    Description,\n",
        "    TotalQuantity,\n",
        "    UnitPrice,\n",
        "    ROUND(TotalQuantity * UnitPrice, 2) AS YearlyRevenue\n",
        "FROM (\n",
        "    SELECT\n",
        "        StockCode,\n",
        "        Description,\n",
        "        SUM(Quantity) AS TotalQuantity,\n",
        "        UnitPrice\n",
        "    FROM retail\n",
        "    GROUP BY StockCode\n",
        ")\n",
        "ORDER BY YearlyRevenue DESC\n",
        "LIMIT 10;"
      ],
      "metadata": {
        "colab": {
          "base_uri": "https://localhost:8080/",
          "height": 298
        },
        "id": "4oNyCmRlHXv8",
        "outputId": "6f0db675-c82a-4c5e-f770-b90adf7de983"
      },
      "execution_count": null,
      "outputs": [
        {
          "output_type": "stream",
          "name": "stdout",
          "text": [
            "   sqlite://\n",
            " * sqlite:///retail.db\n",
            "Done.\n"
          ]
        },
        {
          "output_type": "execute_result",
          "data": {
            "text/plain": [
              "[('DOT', 'DOTCOM POSTAGE', 705, 569.77, 401687.85),\n",
              " ('47566', 'PARTY BUNTING', 18018, 9.32, 167927.76),\n",
              " ('22423', 'REGENCY CAKESTAND 3 TIER', 13022, 10.95, 142590.9),\n",
              " ('85123A', 'WHITE HANGING HEART T-LIGHT HOLDER', 35082, 2.55, 89459.1),\n",
              " ('85099B', 'JUMBO BAG RED RETROSPOT', 47359, 1.65, 78142.35),\n",
              " ('23084', 'RABBIT NIGHT LIGHT', 30680, 2.08, 63814.4),\n",
              " ('84879', 'ASSORTED COLOUR BIRD ORNAMENT', 36381, 1.69, 61483.89),\n",
              " ('22944', 'CHRISTMAS METAL POSTCARD WITH BELLS', 3362, 16.13, 54229.06),\n",
              " ('POST', 'POSTAGE', 3003, 18.0, 54054.0),\n",
              " ('22086', \"PAPER CHAIN KIT 50'S CHRISTMAS \", 18902, 2.55, 48200.1)]"
            ],
            "text/html": [
              "<table>\n",
              "    <thead>\n",
              "        <tr>\n",
              "            <th>StockCode</th>\n",
              "            <th>Description</th>\n",
              "            <th>TotalQuantity</th>\n",
              "            <th>UnitPrice</th>\n",
              "            <th>YearlyRevenue</th>\n",
              "        </tr>\n",
              "    </thead>\n",
              "    <tbody>\n",
              "        <tr>\n",
              "            <td>DOT</td>\n",
              "            <td>DOTCOM POSTAGE</td>\n",
              "            <td>705</td>\n",
              "            <td>569.77</td>\n",
              "            <td>401687.85</td>\n",
              "        </tr>\n",
              "        <tr>\n",
              "            <td>47566</td>\n",
              "            <td>PARTY BUNTING</td>\n",
              "            <td>18018</td>\n",
              "            <td>9.32</td>\n",
              "            <td>167927.76</td>\n",
              "        </tr>\n",
              "        <tr>\n",
              "            <td>22423</td>\n",
              "            <td>REGENCY CAKESTAND 3 TIER</td>\n",
              "            <td>13022</td>\n",
              "            <td>10.95</td>\n",
              "            <td>142590.9</td>\n",
              "        </tr>\n",
              "        <tr>\n",
              "            <td>85123A</td>\n",
              "            <td>WHITE HANGING HEART T-LIGHT HOLDER</td>\n",
              "            <td>35082</td>\n",
              "            <td>2.55</td>\n",
              "            <td>89459.1</td>\n",
              "        </tr>\n",
              "        <tr>\n",
              "            <td>85099B</td>\n",
              "            <td>JUMBO BAG RED RETROSPOT</td>\n",
              "            <td>47359</td>\n",
              "            <td>1.65</td>\n",
              "            <td>78142.35</td>\n",
              "        </tr>\n",
              "        <tr>\n",
              "            <td>23084</td>\n",
              "            <td>RABBIT NIGHT LIGHT</td>\n",
              "            <td>30680</td>\n",
              "            <td>2.08</td>\n",
              "            <td>63814.4</td>\n",
              "        </tr>\n",
              "        <tr>\n",
              "            <td>84879</td>\n",
              "            <td>ASSORTED COLOUR BIRD ORNAMENT</td>\n",
              "            <td>36381</td>\n",
              "            <td>1.69</td>\n",
              "            <td>61483.89</td>\n",
              "        </tr>\n",
              "        <tr>\n",
              "            <td>22944</td>\n",
              "            <td>CHRISTMAS METAL POSTCARD WITH BELLS</td>\n",
              "            <td>3362</td>\n",
              "            <td>16.13</td>\n",
              "            <td>54229.06</td>\n",
              "        </tr>\n",
              "        <tr>\n",
              "            <td>POST</td>\n",
              "            <td>POSTAGE</td>\n",
              "            <td>3003</td>\n",
              "            <td>18.0</td>\n",
              "            <td>54054.0</td>\n",
              "        </tr>\n",
              "        <tr>\n",
              "            <td>22086</td>\n",
              "            <td>PAPER CHAIN KIT 50&#x27;S CHRISTMAS </td>\n",
              "            <td>18902</td>\n",
              "            <td>2.55</td>\n",
              "            <td>48200.1</td>\n",
              "        </tr>\n",
              "    </tbody>\n",
              "</table>"
            ]
          },
          "metadata": {},
          "execution_count": 103
        }
      ]
    },
    {
      "cell_type": "markdown",
      "source": [
        "#Data Visualization\n"
      ],
      "metadata": {
        "id": "Cb6bZ6c3WKAy"
      }
    },
    {
      "cell_type": "code",
      "source": [
        "#Visualizing the query above(top 10 products with their imapct on revenue)\n",
        "import matplotlib.pyplot as plt\n",
        "import seaborn as sns\n",
        "\n",
        "query = '''\n",
        "SELECT\n",
        "    StockCode,\n",
        "    Description,\n",
        "    TotalQuantity,\n",
        "    UnitPrice,\n",
        "    ROUND(TotalQuantity * UnitPrice, 2) AS YearlyRevenue\n",
        "FROM (\n",
        "    SELECT\n",
        "        StockCode,\n",
        "        Description,\n",
        "        SUM(Quantity) AS TotalQuantity,\n",
        "        UnitPrice\n",
        "    FROM retail\n",
        "    GROUP BY StockCode\n",
        ")\n",
        "ORDER BY YearlyRevenue DESC\n",
        "LIMIT 10\n",
        "'''\n",
        "df = pd.read_sql_query(query, conn)\n",
        "\n",
        "# Create the bar plot\n",
        "plt.figure(figsize=(12, 6))\n",
        "sns.barplot(x='Description', y='YearlyRevenue', data=df)\n",
        "plt.xticks(rotation=90)\n",
        "plt.xlabel('Item Description')\n",
        "plt.ylabel('Yearly Revenue')\n",
        "plt.title('Top 10 Purchased Items and Their Impact on Yearly Revenue')\n",
        "plt.tight_layout()\n",
        "plt.show()\n",
        "\n"
      ],
      "metadata": {
        "colab": {
          "base_uri": "https://localhost:8080/",
          "height": 607
        },
        "id": "XkPD-UA5KnqW",
        "outputId": "c3de6eae-d558-4d9f-9b3e-c54a2527583f"
      },
      "execution_count": null,
      "outputs": [
        {
          "output_type": "display_data",
          "data": {
            "text/plain": [
              "<Figure size 1200x600 with 1 Axes>"
            ],
            "image/png": "[encoded data removed]"
          },
          "metadata": {}
        }
      ]
    },
    {
      "cell_type": "code",
      "source": [
        "#analyzing the item that contributes most to the revenue\n",
        "%%sql\n",
        "SELECT * FROM retail where Description='DOTCOM POSTAGE' Group by Month LIMIT 10"
      ],
      "metadata": {
        "colab": {
          "base_uri": "https://localhost:8080/",
          "height": 298
        },
        "id": "EiDBcQVS8S1X",
        "outputId": "79513b69-a158-4752-866c-f21e4bdfdb56"
      },
      "execution_count": null,
      "outputs": [
        {
          "output_type": "stream",
          "name": "stdout",
          "text": [
            "   sqlite://\n",
            " * sqlite:///retail.db\n",
            "Done.\n"
          ]
        },
        {
          "output_type": "execute_result",
          "data": {
            "text/plain": [
              "[(143057, '548663', 'DOT', 'DOTCOM POSTAGE', 1, '4/1/2011 14:44', 244.46, None, 'United Kingdom', 244.5, 'April', 11),\n",
              " (286320, '562024', 'DOT', 'DOTCOM POSTAGE', 1, '8/1/2011 16:07', 142.94, None, 'United Kingdom', 142.9, 'August', 11),\n",
              " (1814, '536544', 'DOT', 'DOTCOM POSTAGE', 1, '12/1/2010 14:32', 569.77, None, 'United Kingdom', 569.8, 'December', 10),\n",
              " (78017, '542794', 'DOT', 'DOTCOM POSTAGE', 1, '2/1/2011 10:56', 86.77, None, 'United Kingdom', 86.8, 'February', 11),\n",
              " (42979, '540026', 'DOT', 'DOTCOM POSTAGE', 1, '1/4/2011 13:25', 469.7, None, 'United Kingdom', 469.7, 'January', 11),\n",
              " (246097, '558680', 'DOT', 'DOTCOM POSTAGE', 1, '7/1/2011 11:19', 64.88, None, 'United Kingdom', 64.9, 'July', 11),\n",
              " (209927, '555275', 'DOT', 'DOTCOM POSTAGE', 1, '6/1/2011 17:18', 205.29, None, 'United Kingdom', 205.3, 'June', 11),\n",
              " (106176, '545315', 'DOT', 'DOTCOM POSTAGE', 1, '3/1/2011 14:14', 75.58, None, 'United Kingdom', 75.6, 'March', 11),\n",
              " (173679, '551718', 'DOT', 'DOTCOM POSTAGE', 1, '5/3/2011 16:06', 160.37, None, 'United Kingdom', 160.4, 'May', 11),\n",
              " (435443, '574074', 'DOT', 'DOTCOM POSTAGE', 1, '11/2/2011 15:33', 371.65, None, 'United Kingdom', 371.7, 'November', 11)]"
            ],
            "text/html": [
              "<table>\n",
              "    <thead>\n",
              "        <tr>\n",
              "            <th>index</th>\n",
              "            <th>InvoiceNo</th>\n",
              "            <th>StockCode</th>\n",
              "            <th>Description</th>\n",
              "            <th>Quantity</th>\n",
              "            <th>InvoiceDate</th>\n",
              "            <th>UnitPrice</th>\n",
              "            <th>CustomerID</th>\n",
              "            <th>Country</th>\n",
              "            <th>Total</th>\n",
              "            <th>Month</th>\n",
              "            <th>Year</th>\n",
              "        </tr>\n",
              "    </thead>\n",
              "    <tbody>\n",
              "        <tr>\n",
              "            <td>143057</td>\n",
              "            <td>548663</td>\n",
              "            <td>DOT</td>\n",
              "            <td>DOTCOM POSTAGE</td>\n",
              "            <td>1</td>\n",
              "            <td>4/1/2011 14:44</td>\n",
              "            <td>244.46</td>\n",
              "            <td>None</td>\n",
              "            <td>United Kingdom</td>\n",
              "            <td>244.5</td>\n",
              "            <td>April</td>\n",
              "            <td>11</td>\n",
              "        </tr>\n",
              "        <tr>\n",
              "            <td>286320</td>\n",
              "            <td>562024</td>\n",
              "            <td>DOT</td>\n",
              "            <td>DOTCOM POSTAGE</td>\n",
              "            <td>1</td>\n",
              "            <td>8/1/2011 16:07</td>\n",
              "            <td>142.94</td>\n",
              "            <td>None</td>\n",
              "            <td>United Kingdom</td>\n",
              "            <td>142.9</td>\n",
              "            <td>August</td>\n",
              "            <td>11</td>\n",
              "        </tr>\n",
              "        <tr>\n",
              "            <td>1814</td>\n",
              "            <td>536544</td>\n",
              "            <td>DOT</td>\n",
              "            <td>DOTCOM POSTAGE</td>\n",
              "            <td>1</td>\n",
              "            <td>12/1/2010 14:32</td>\n",
              "            <td>569.77</td>\n",
              "            <td>None</td>\n",
              "            <td>United Kingdom</td>\n",
              "            <td>569.8</td>\n",
              "            <td>December</td>\n",
              "            <td>10</td>\n",
              "        </tr>\n",
              "        <tr>\n",
              "            <td>78017</td>\n",
              "            <td>542794</td>\n",
              "            <td>DOT</td>\n",
              "            <td>DOTCOM POSTAGE</td>\n",
              "            <td>1</td>\n",
              "            <td>2/1/2011 10:56</td>\n",
              "            <td>86.77</td>\n",
              "            <td>None</td>\n",
              "            <td>United Kingdom</td>\n",
              "            <td>86.8</td>\n",
              "            <td>February</td>\n",
              "            <td>11</td>\n",
              "        </tr>\n",
              "        <tr>\n",
              "            <td>42979</td>\n",
              "            <td>540026</td>\n",
              "            <td>DOT</td>\n",
              "            <td>DOTCOM POSTAGE</td>\n",
              "            <td>1</td>\n",
              "            <td>1/4/2011 13:25</td>\n",
              "            <td>469.7</td>\n",
              "            <td>None</td>\n",
              "            <td>United Kingdom</td>\n",
              "            <td>469.7</td>\n",
              "            <td>January</td>\n",
              "            <td>11</td>\n",
              "        </tr>\n",
              "        <tr>\n",
              "            <td>246097</td>\n",
              "            <td>558680</td>\n",
              "            <td>DOT</td>\n",
              "            <td>DOTCOM POSTAGE</td>\n",
              "            <td>1</td>\n",
              "            <td>7/1/2011 11:19</td>\n",
              "            <td>64.88</td>\n",
              "            <td>None</td>\n",
              "            <td>United Kingdom</td>\n",
              "            <td>64.9</td>\n",
              "            <td>July</td>\n",
              "            <td>11</td>\n",
              "        </tr>\n",
              "        <tr>\n",
              "            <td>209927</td>\n",
              "            <td>555275</td>\n",
              "            <td>DOT</td>\n",
              "            <td>DOTCOM POSTAGE</td>\n",
              "            <td>1</td>\n",
              "            <td>6/1/2011 17:18</td>\n",
              "            <td>205.29</td>\n",
              "            <td>None</td>\n",
              "            <td>United Kingdom</td>\n",
              "            <td>205.3</td>\n",
              "            <td>June</td>\n",
              "            <td>11</td>\n",
              "        </tr>\n",
              "        <tr>\n",
              "            <td>106176</td>\n",
              "            <td>545315</td>\n",
              "            <td>DOT</td>\n",
              "            <td>DOTCOM POSTAGE</td>\n",
              "            <td>1</td>\n",
              "            <td>3/1/2011 14:14</td>\n",
              "            <td>75.58</td>\n",
              "            <td>None</td>\n",
              "            <td>United Kingdom</td>\n",
              "            <td>75.6</td>\n",
              "            <td>March</td>\n",
              "            <td>11</td>\n",
              "        </tr>\n",
              "        <tr>\n",
              "            <td>173679</td>\n",
              "            <td>551718</td>\n",
              "            <td>DOT</td>\n",
              "            <td>DOTCOM POSTAGE</td>\n",
              "            <td>1</td>\n",
              "            <td>5/3/2011 16:06</td>\n",
              "            <td>160.37</td>\n",
              "            <td>None</td>\n",
              "            <td>United Kingdom</td>\n",
              "            <td>160.4</td>\n",
              "            <td>May</td>\n",
              "            <td>11</td>\n",
              "        </tr>\n",
              "        <tr>\n",
              "            <td>435443</td>\n",
              "            <td>574074</td>\n",
              "            <td>DOT</td>\n",
              "            <td>DOTCOM POSTAGE</td>\n",
              "            <td>1</td>\n",
              "            <td>11/2/2011 15:33</td>\n",
              "            <td>371.65</td>\n",
              "            <td>None</td>\n",
              "            <td>United Kingdom</td>\n",
              "            <td>371.7</td>\n",
              "            <td>November</td>\n",
              "            <td>11</td>\n",
              "        </tr>\n",
              "    </tbody>\n",
              "</table>"
            ]
          },
          "metadata": {},
          "execution_count": 111
        }
      ]
    },
    {
      "cell_type": "markdown",
      "source": [
        "The most purchased item was purchased various months throughout the year. It's very popular in the United Kingdom which makes sense as the item seems to be a postage fee"
      ],
      "metadata": {
        "id": "BKRxjDqY8upt"
      }
    },
    {
      "cell_type": "code",
      "source": [
        "#Visualizing the most purchased item\n",
        "import matplotlib.pyplot as plt\n",
        "import seaborn as sns\n",
        "\n",
        "# Execute the SQL query to get the top purchased item\n",
        "query = '''\n",
        "SELECT SUM(Total) AS 'Total Sum', Month\n",
        "FROM retail\n",
        "WHERE Description ='DOTCOM POSTAGE'\n",
        "GROUP BY Month\n",
        "'''\n",
        "df = pd.read_sql_query(query, conn)\n",
        "\n",
        "# Create the bar plot\n",
        "plt.figure(figsize=(12, 6))\n",
        "sns.barplot(x='Month', y='Total Sum', data=df)\n",
        "plt.xticks(rotation=90)\n",
        "plt.xlabel('Months')\n",
        "plt.ylabel('Monthly Revenue')\n",
        "plt.title('DOTCOM POSTAGE and Its Impact on Monthly Revenue')\n",
        "plt.tight_layout()\n",
        "plt.show()\n"
      ],
      "metadata": {
        "colab": {
          "base_uri": "https://localhost:8080/",
          "height": 607
        },
        "id": "xqrp6NIJYocv",
        "outputId": "314effe9-2380-4a14-d046-0dc3f2b9f894"
      },
      "execution_count": null,
      "outputs": [
        {
          "output_type": "display_data",
          "data": {
            "text/plain": [
              "<Figure size 1200x600 with 1 Axes>"
            ],
            "image/png": "[encoded data removed]"
          },
          "metadata": {}
        }
      ]
    },
    {
      "cell_type": "markdown",
      "source": [
        "From the visualization above, November being the month with the highest purchases could be due to prepartion of the festivity period. People could be shipping various items such as gifts, Christmas Cards to friends and family."
      ],
      "metadata": {
        "id": "58oCHYK8Yymh"
      }
    },
    {
      "cell_type": "code",
      "source": [
        "#Analysing the second most purchased item\n",
        "%%sql\n",
        "SELECT * FROM retail where Description='PARTY BUNTING' Group by Month LIMIT 10"
      ],
      "metadata": {
        "colab": {
          "base_uri": "https://localhost:8080/",
          "height": 298
        },
        "id": "5pwD93jgPMmG",
        "outputId": "8e1fa31e-50b0-4637-b7e2-8cbd7b6b74c2"
      },
      "execution_count": null,
      "outputs": [
        {
          "output_type": "stream",
          "name": "stdout",
          "text": [
            "   sqlite://\n",
            " * sqlite:///retail.db\n",
            "Done.\n"
          ]
        },
        {
          "output_type": "execute_result",
          "data": {
            "text/plain": [
              "[(142271, '548565', '47566', 'PARTY BUNTING', 12, '4/1/2011 10:23', 4.95, 16180.0, 'United Kingdom', 59.4, 'April', 2011),\n",
              " (286014, '561969', '47566', 'PARTY BUNTING', 6, '8/1/2011 13:31', 4.95, 17757.0, 'United Kingdom', 29.7, 'August', 2011),\n",
              " (517477, '580058', '47566', 'PARTY BUNTING', 4, '12/1/2011 13:19', 4.95, 14367.0, 'United Kingdom', 19.8, 'December', 2011),\n",
              " (77735, '542780', '47566', 'PARTY BUNTING', 10, '2/1/2011 9:38', 4.65, 17675.0, 'United Kingdom', 46.5, 'February', 2011),\n",
              " (42842, '540023', '47566', 'PARTY BUNTING', 60, '1/4/2011 12:58', 3.75, 15039.0, 'United Kingdom', 225.0, 'January', 2011),\n",
              " (245995, '558642', '47566', 'PARTY BUNTING', 8, '7/1/2011 9:47', 4.95, 17667.0, 'United Kingdom', 39.6, 'July', 2011),\n",
              " (209036, '555157', '47566', 'PARTY BUNTING', 8, '6/1/2011 7:38', 4.95, 15643.0, 'United Kingdom', 39.6, 'June', 2011),\n",
              " (105468, '545226', '47566', 'PARTY BUNTING', 4, '3/1/2011 9:33', 4.95, 12428.0, 'Finland', 19.8, 'March', 2011),\n",
              " (172182, '551520', '47566', 'PARTY BUNTING', 3, '5/1/2011 11:55', 4.95, 13301.0, 'United Kingdom', 14.9, 'May', 2011),\n",
              " (431920, '573772', '47566', 'PARTY BUNTING', 1, '11/1/2011 10:16', 4.95, 17377.0, 'United Kingdom', 5.0, 'November', 2011)]"
            ],
            "text/html": [
              "<table>\n",
              "    <thead>\n",
              "        <tr>\n",
              "            <th>index</th>\n",
              "            <th>InvoiceNo</th>\n",
              "            <th>StockCode</th>\n",
              "            <th>Description</th>\n",
              "            <th>Quantity</th>\n",
              "            <th>InvoiceDate</th>\n",
              "            <th>UnitPrice</th>\n",
              "            <th>CustomerID</th>\n",
              "            <th>Country</th>\n",
              "            <th>Total</th>\n",
              "            <th>Month</th>\n",
              "            <th>Year</th>\n",
              "        </tr>\n",
              "    </thead>\n",
              "    <tbody>\n",
              "        <tr>\n",
              "            <td>142271</td>\n",
              "            <td>548565</td>\n",
              "            <td>47566</td>\n",
              "            <td>PARTY BUNTING</td>\n",
              "            <td>12</td>\n",
              "            <td>4/1/2011 10:23</td>\n",
              "            <td>4.95</td>\n",
              "            <td>16180.0</td>\n",
              "            <td>United Kingdom</td>\n",
              "            <td>59.4</td>\n",
              "            <td>April</td>\n",
              "            <td>2011</td>\n",
              "        </tr>\n",
              "        <tr>\n",
              "            <td>286014</td>\n",
              "            <td>561969</td>\n",
              "            <td>47566</td>\n",
              "            <td>PARTY BUNTING</td>\n",
              "            <td>6</td>\n",
              "            <td>8/1/2011 13:31</td>\n",
              "            <td>4.95</td>\n",
              "            <td>17757.0</td>\n",
              "            <td>United Kingdom</td>\n",
              "            <td>29.7</td>\n",
              "            <td>August</td>\n",
              "            <td>2011</td>\n",
              "        </tr>\n",
              "        <tr>\n",
              "            <td>517477</td>\n",
              "            <td>580058</td>\n",
              "            <td>47566</td>\n",
              "            <td>PARTY BUNTING</td>\n",
              "            <td>4</td>\n",
              "            <td>12/1/2011 13:19</td>\n",
              "            <td>4.95</td>\n",
              "            <td>14367.0</td>\n",
              "            <td>United Kingdom</td>\n",
              "            <td>19.8</td>\n",
              "            <td>December</td>\n",
              "            <td>2011</td>\n",
              "        </tr>\n",
              "        <tr>\n",
              "            <td>77735</td>\n",
              "            <td>542780</td>\n",
              "            <td>47566</td>\n",
              "            <td>PARTY BUNTING</td>\n",
              "            <td>10</td>\n",
              "            <td>2/1/2011 9:38</td>\n",
              "            <td>4.65</td>\n",
              "            <td>17675.0</td>\n",
              "            <td>United Kingdom</td>\n",
              "            <td>46.5</td>\n",
              "            <td>February</td>\n",
              "            <td>2011</td>\n",
              "        </tr>\n",
              "        <tr>\n",
              "            <td>42842</td>\n",
              "            <td>540023</td>\n",
              "            <td>47566</td>\n",
              "            <td>PARTY BUNTING</td>\n",
              "            <td>60</td>\n",
              "            <td>1/4/2011 12:58</td>\n",
              "            <td>3.75</td>\n",
              "            <td>15039.0</td>\n",
              "            <td>United Kingdom</td>\n",
              "            <td>225.0</td>\n",
              "            <td>January</td>\n",
              "            <td>2011</td>\n",
              "        </tr>\n",
              "        <tr>\n",
              "            <td>245995</td>\n",
              "            <td>558642</td>\n",
              "            <td>47566</td>\n",
              "            <td>PARTY BUNTING</td>\n",
              "            <td>8</td>\n",
              "            <td>7/1/2011 9:47</td>\n",
              "            <td>4.95</td>\n",
              "            <td>17667.0</td>\n",
              "            <td>United Kingdom</td>\n",
              "            <td>39.6</td>\n",
              "            <td>July</td>\n",
              "            <td>2011</td>\n",
              "        </tr>\n",
              "        <tr>\n",
              "            <td>209036</td>\n",
              "            <td>555157</td>\n",
              "            <td>47566</td>\n",
              "            <td>PARTY BUNTING</td>\n",
              "            <td>8</td>\n",
              "            <td>6/1/2011 7:38</td>\n",
              "            <td>4.95</td>\n",
              "            <td>15643.0</td>\n",
              "            <td>United Kingdom</td>\n",
              "            <td>39.6</td>\n",
              "            <td>June</td>\n",
              "            <td>2011</td>\n",
              "        </tr>\n",
              "        <tr>\n",
              "            <td>105468</td>\n",
              "            <td>545226</td>\n",
              "            <td>47566</td>\n",
              "            <td>PARTY BUNTING</td>\n",
              "            <td>4</td>\n",
              "            <td>3/1/2011 9:33</td>\n",
              "            <td>4.95</td>\n",
              "            <td>12428.0</td>\n",
              "            <td>Finland</td>\n",
              "            <td>19.8</td>\n",
              "            <td>March</td>\n",
              "            <td>2011</td>\n",
              "        </tr>\n",
              "        <tr>\n",
              "            <td>172182</td>\n",
              "            <td>551520</td>\n",
              "            <td>47566</td>\n",
              "            <td>PARTY BUNTING</td>\n",
              "            <td>3</td>\n",
              "            <td>5/1/2011 11:55</td>\n",
              "            <td>4.95</td>\n",
              "            <td>13301.0</td>\n",
              "            <td>United Kingdom</td>\n",
              "            <td>14.9</td>\n",
              "            <td>May</td>\n",
              "            <td>2011</td>\n",
              "        </tr>\n",
              "        <tr>\n",
              "            <td>431920</td>\n",
              "            <td>573772</td>\n",
              "            <td>47566</td>\n",
              "            <td>PARTY BUNTING</td>\n",
              "            <td>1</td>\n",
              "            <td>11/1/2011 10:16</td>\n",
              "            <td>4.95</td>\n",
              "            <td>17377.0</td>\n",
              "            <td>United Kingdom</td>\n",
              "            <td>5.0</td>\n",
              "            <td>November</td>\n",
              "            <td>2011</td>\n",
              "        </tr>\n",
              "    </tbody>\n",
              "</table>"
            ]
          },
          "metadata": {},
          "execution_count": 135
        }
      ]
    },
    {
      "cell_type": "markdown",
      "source": [
        "The second most purchased item has more spread as it was purchased internationally and various times throughout the year."
      ],
      "metadata": {
        "id": "bkOUGRi5PYig"
      }
    },
    {
      "cell_type": "code",
      "source": [
        "#Visualizing the second most purchased item\n",
        "import matplotlib.pyplot as plt\n",
        "import seaborn as sns\n",
        "\n",
        "# Execute the SQL query to get the top purchased items\n",
        "query = '''\n",
        "SELECT SUM(Total) AS 'Total Sum', Month FROM retail where Description='PARTY BUNTING' GROUP BY Month\n",
        "'''\n",
        "df = pd.read_sql_query(query, conn)\n",
        "\n",
        "# Create the bar plot\n",
        "plt.figure(figsize=(12, 6))\n",
        "sns.barplot(x='Month', y='Total Sum', data=df)\n",
        "plt.xticks(rotation=90)\n",
        "plt.xlabel('Months')\n",
        "plt.ylabel('Monthly Revenue')\n",
        "plt.title('Party Bunting and Its Impact on Monthly Revenue')\n",
        "plt.tight_layout()\n",
        "plt.show()\n",
        "\n"
      ],
      "metadata": {
        "colab": {
          "base_uri": "https://localhost:8080/",
          "height": 607
        },
        "id": "taF9Q0liRAxT",
        "outputId": "ee4190ae-16e9-4170-a9b2-20dd2ad81e49"
      },
      "execution_count": null,
      "outputs": [
        {
          "output_type": "display_data",
          "data": {
            "text/plain": [
              "<Figure size 1200x600 with 1 Axes>"
            ],
            "image/png": "[encoded data removed]"
          },
          "metadata": {}
        }
      ]
    },
    {
      "cell_type": "markdown",
      "source": [
        "May being the month with the highest purchase of party bunting could suggest that many people had celebrations in the month of May."
      ],
      "metadata": {
        "id": "_8sgQaFQZA2S"
      }
    },
    {
      "cell_type": "markdown",
      "source": [
        "Next, I'll analyze the correlation between month, year and the most purchases to identify if there's a trend"
      ],
      "metadata": {
        "id": "_C8NKWwE5ZLu"
      }
    },
    {
      "cell_type": "code",
      "source": [
        "#Cleaning the year column\n",
        "%%sql\n",
        "UPDATE retail SET Year = 2010 WHERE Year = 10;\n",
        "UPDATE retail SET Year = 2011 WHERE Year = 11"
      ],
      "metadata": {
        "colab": {
          "base_uri": "https://localhost:8080/"
        },
        "id": "OxmwsriRi1ux",
        "outputId": "49802ad0-2a58-4449-b217-57e100a3a702"
      },
      "execution_count": null,
      "outputs": [
        {
          "output_type": "stream",
          "name": "stdout",
          "text": [
            "   sqlite://\n",
            " * sqlite:///retail.db\n",
            "39254 rows affected.\n",
            "456586 rows affected.\n"
          ]
        },
        {
          "output_type": "execute_result",
          "data": {
            "text/plain": [
              "[]"
            ]
          },
          "metadata": {},
          "execution_count": 121
        }
      ]
    },
    {
      "cell_type": "code",
      "source": [
        "%%sql\n",
        "SELECT Month,Year,  ROUND(SUM(Total), 2) AS 'Monthly Sales'\n",
        "FROM retail\n",
        "GROUP BY Month, Year\n",
        "ORDER BY  ROUND(SUM(Total),2);\n"
      ],
      "metadata": {
        "colab": {
          "base_uri": "https://localhost:8080/",
          "height": 360
        },
        "id": "REUaZv4Xjprm",
        "outputId": "9bef5378-59f9-4e48-e53b-296506954331"
      },
      "execution_count": null,
      "outputs": [
        {
          "output_type": "stream",
          "name": "stdout",
          "text": [
            "   sqlite://\n",
            " * sqlite:///retail.db\n",
            "Done.\n"
          ]
        },
        {
          "output_type": "execute_result",
          "data": {
            "text/plain": [
              "[('December', 2011, 433943.2),\n",
              " ('April', 2011, 493500.2),\n",
              " ('February', 2011, 498336.1),\n",
              " ('January', 2011, 560319.0),\n",
              " ('July', 2011, 681665.1),\n",
              " ('March', 2011, 683621.2),\n",
              " ('June', 2011, 691468.3),\n",
              " ('August', 2011, 705101.3),\n",
              " ('May', 2011, 723666.5),\n",
              " ('December', 2010, 749370.9),\n",
              " ('September', 2011, 1020111.0),\n",
              " ('October', 2011, 1071350.2),\n",
              " ('November', 2011, 1462756.3)]"
            ],
            "text/html": [
              "<table>\n",
              "    <thead>\n",
              "        <tr>\n",
              "            <th>Month</th>\n",
              "            <th>Year</th>\n",
              "            <th>Monthly Sales</th>\n",
              "        </tr>\n",
              "    </thead>\n",
              "    <tbody>\n",
              "        <tr>\n",
              "            <td>December</td>\n",
              "            <td>2011</td>\n",
              "            <td>433943.2</td>\n",
              "        </tr>\n",
              "        <tr>\n",
              "            <td>April</td>\n",
              "            <td>2011</td>\n",
              "            <td>493500.2</td>\n",
              "        </tr>\n",
              "        <tr>\n",
              "            <td>February</td>\n",
              "            <td>2011</td>\n",
              "            <td>498336.1</td>\n",
              "        </tr>\n",
              "        <tr>\n",
              "            <td>January</td>\n",
              "            <td>2011</td>\n",
              "            <td>560319.0</td>\n",
              "        </tr>\n",
              "        <tr>\n",
              "            <td>July</td>\n",
              "            <td>2011</td>\n",
              "            <td>681665.1</td>\n",
              "        </tr>\n",
              "        <tr>\n",
              "            <td>March</td>\n",
              "            <td>2011</td>\n",
              "            <td>683621.2</td>\n",
              "        </tr>\n",
              "        <tr>\n",
              "            <td>June</td>\n",
              "            <td>2011</td>\n",
              "            <td>691468.3</td>\n",
              "        </tr>\n",
              "        <tr>\n",
              "            <td>August</td>\n",
              "            <td>2011</td>\n",
              "            <td>705101.3</td>\n",
              "        </tr>\n",
              "        <tr>\n",
              "            <td>May</td>\n",
              "            <td>2011</td>\n",
              "            <td>723666.5</td>\n",
              "        </tr>\n",
              "        <tr>\n",
              "            <td>December</td>\n",
              "            <td>2010</td>\n",
              "            <td>749370.9</td>\n",
              "        </tr>\n",
              "        <tr>\n",
              "            <td>September</td>\n",
              "            <td>2011</td>\n",
              "            <td>1020111.0</td>\n",
              "        </tr>\n",
              "        <tr>\n",
              "            <td>October</td>\n",
              "            <td>2011</td>\n",
              "            <td>1071350.2</td>\n",
              "        </tr>\n",
              "        <tr>\n",
              "            <td>November</td>\n",
              "            <td>2011</td>\n",
              "            <td>1462756.3</td>\n",
              "        </tr>\n",
              "    </tbody>\n",
              "</table>"
            ]
          },
          "metadata": {},
          "execution_count": 122
        }
      ]
    },
    {
      "cell_type": "markdown",
      "source": [
        "There's only one record for the year 2010 (which is in the month of December) so the year 2010 can be dropped"
      ],
      "metadata": {
        "id": "EcOlGpSYkxKm"
      }
    },
    {
      "cell_type": "code",
      "source": [
        "#Monthly sales for 2011\n",
        "%%sql\n",
        "DELETE FROM retail WHERE Year = 2010;\n",
        "SELECT Month,Year,  ROUND(SUM(Total), 2) AS 'Monthly Sales'\n",
        "FROM retail\n",
        "GROUP BY Month, Year\n",
        "ORDER BY  ROUND(SUM(Total),2) DESC\n"
      ],
      "metadata": {
        "colab": {
          "base_uri": "https://localhost:8080/",
          "height": 358
        },
        "id": "tK8H0m49kiQn",
        "outputId": "8debb36b-ffcb-43ae-ba82-f420f4473636"
      },
      "execution_count": null,
      "outputs": [
        {
          "output_type": "stream",
          "name": "stdout",
          "text": [
            "   sqlite://\n",
            " * sqlite:///retail.db\n",
            "0 rows affected.\n",
            "Done.\n"
          ]
        },
        {
          "output_type": "execute_result",
          "data": {
            "text/plain": [
              "[('November', 2011, 1462756.3),\n",
              " ('October', 2011, 1071350.2),\n",
              " ('September', 2011, 1020111.0),\n",
              " ('May', 2011, 723666.5),\n",
              " ('August', 2011, 705101.3),\n",
              " ('June', 2011, 691468.3),\n",
              " ('March', 2011, 683621.2),\n",
              " ('July', 2011, 681665.1),\n",
              " ('January', 2011, 560319.0),\n",
              " ('February', 2011, 498336.1),\n",
              " ('April', 2011, 493500.2),\n",
              " ('December', 2011, 433943.2)]"
            ],
            "text/html": [
              "<table>\n",
              "    <thead>\n",
              "        <tr>\n",
              "            <th>Month</th>\n",
              "            <th>Year</th>\n",
              "            <th>Monthly Sales</th>\n",
              "        </tr>\n",
              "    </thead>\n",
              "    <tbody>\n",
              "        <tr>\n",
              "            <td>November</td>\n",
              "            <td>2011</td>\n",
              "            <td>1462756.3</td>\n",
              "        </tr>\n",
              "        <tr>\n",
              "            <td>October</td>\n",
              "            <td>2011</td>\n",
              "            <td>1071350.2</td>\n",
              "        </tr>\n",
              "        <tr>\n",
              "            <td>September</td>\n",
              "            <td>2011</td>\n",
              "            <td>1020111.0</td>\n",
              "        </tr>\n",
              "        <tr>\n",
              "            <td>May</td>\n",
              "            <td>2011</td>\n",
              "            <td>723666.5</td>\n",
              "        </tr>\n",
              "        <tr>\n",
              "            <td>August</td>\n",
              "            <td>2011</td>\n",
              "            <td>705101.3</td>\n",
              "        </tr>\n",
              "        <tr>\n",
              "            <td>June</td>\n",
              "            <td>2011</td>\n",
              "            <td>691468.3</td>\n",
              "        </tr>\n",
              "        <tr>\n",
              "            <td>March</td>\n",
              "            <td>2011</td>\n",
              "            <td>683621.2</td>\n",
              "        </tr>\n",
              "        <tr>\n",
              "            <td>July</td>\n",
              "            <td>2011</td>\n",
              "            <td>681665.1</td>\n",
              "        </tr>\n",
              "        <tr>\n",
              "            <td>January</td>\n",
              "            <td>2011</td>\n",
              "            <td>560319.0</td>\n",
              "        </tr>\n",
              "        <tr>\n",
              "            <td>February</td>\n",
              "            <td>2011</td>\n",
              "            <td>498336.1</td>\n",
              "        </tr>\n",
              "        <tr>\n",
              "            <td>April</td>\n",
              "            <td>2011</td>\n",
              "            <td>493500.2</td>\n",
              "        </tr>\n",
              "        <tr>\n",
              "            <td>December</td>\n",
              "            <td>2011</td>\n",
              "            <td>433943.2</td>\n",
              "        </tr>\n",
              "    </tbody>\n",
              "</table>"
            ]
          },
          "metadata": {},
          "execution_count": 140
        }
      ]
    },
    {
      "cell_type": "code",
      "source": [
        "import pandas as pd\n",
        "import matplotlib.pyplot as plt\n",
        "import seaborn as sns\n",
        "query = '''\n",
        "SELECT SUM(Total) AS 'Total_Sum', Month, Description\n",
        "FROM retail\n",
        "WHERE Description IN ('PARTY BUNTING', 'DOTCOM POSTAGE')\n",
        "GROUP BY Month, Description\n",
        "'''\n",
        "df = pd.read_sql_query(query, conn)\n",
        "\n",
        "# Pivot the data to have a column for each Description\n",
        "df_pivot = df.pivot(index='Month', columns='Description', values='Total_Sum').reset_index()\n",
        "\n",
        "# Melt the DataFrame to a long format for seaborn\n",
        "df_melted = pd.melt(df_pivot, id_vars='Month', value_vars=['PARTY BUNTING', 'DOTCOM POSTAGE'],\n",
        "                    var_name='Description', value_name='Total_Sum')\n",
        "print(df_pivot)\n",
        "\n",
        "# Create the bar plot\n",
        "plt.figure(figsize=(12, 6))\n",
        "sns.barplot(x='Month', y='Total_Sum', hue='Description', data=df_melted)\n",
        "plt.xticks(rotation=90)\n",
        "plt.xlabel('Months')\n",
        "plt.ylabel('Monthly Revenue')\n",
        "plt.title('Impact of PARTY BUNTING and DOTCOM POSTAGE on Monthly Revenue')\n",
        "plt.tight_layout()\n",
        "plt.show()"
      ],
      "metadata": {
        "colab": {
          "base_uri": "https://localhost:8080/",
          "height": 847
        },
        "id": "Zf_07zlXaVSk",
        "outputId": "33e4e7a5-1c55-4ac0-8d92-bc654aee3396"
      },
      "execution_count": null,
      "outputs": [
        {
          "output_type": "stream",
          "name": "stdout",
          "text": [
            "Description      Month  DOTCOM POSTAGE  PARTY BUNTING\n",
            "0                April          7535.5        10325.7\n",
            "1               August         13400.8         9656.7\n",
            "2             December         19873.0          918.9\n",
            "3             February         10060.9         4348.9\n",
            "4              January         13918.8         2290.1\n",
            "5                 July         12841.4        14577.7\n",
            "6                 June         11849.0        12459.4\n",
            "7                March         11829.9         9099.6\n",
            "8                  May         10229.8        19125.8\n",
            "9             November         36905.9         4712.4\n",
            "10             October         17955.4         3462.8\n",
            "11           September         15177.7         6134.7\n"
          ]
        },
        {
          "output_type": "display_data",
          "data": {
            "text/plain": [
              "<Figure size 1200x600 with 1 Axes>"
            ],
            "image/png": "[encoded data removed]"
          },
          "metadata": {}
        }
      ]
    },
    {
      "cell_type": "markdown",
      "source": [
        "#CONCLUSION"
      ],
      "metadata": {
        "id": "2QBJwiNprPRo"
      }
    },
    {
      "cell_type": "markdown",
      "source": [
        "The dataset is limited mainly to the year 2011, which restricts analysis to a single years trends and may not reflect broader, multi-year patterns. So, this analysis could be biased. Furthermore, November emerging as the month with the highest sales could be due to pre-Christmas shopping. September and October also showed high sales, possibly driven by Halloween sales or back-to-school promotions. These insights suggest that targeted promotions around these periods could be beneficial.  \n",
        "\n",
        "My comprehensive analysis of e-commerce sales data demonstrates a strong ability to use SQL for data extraction and for detailed analysis. My visualizations reveal actionable insights into sales trends, and I've provided a clear interpretation of the data's implications. My analytical skills and ability to draw meaningful conclusions from data will add significant value to your team. I am adept at transforming raw data into strategic insights and actionable recommendations, making me a strong candidate for this role. Thank you for your consideration, and I look forward to speaking with you further."
      ],
      "metadata": {
        "id": "vur-kSvfrR_w"
      }
    },
    {
      "cell_type": "markdown",
      "source": [
        "Sincerely,\n",
        "\n",
        "Deborah Atsagbede\n",
        "\n",
        "atsagbedeg@gmail.com | www.linkedin.com/in/gbone-atsagbede\n"
      ],
      "metadata": {
        "id": "sXiqQN_uzb_p"
      }
    }
  ]
}